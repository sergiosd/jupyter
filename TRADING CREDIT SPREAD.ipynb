{
 "cells": [
  {
   "cell_type": "markdown",
   "metadata": {},
   "source": [
    "# 20161004 SPY - BULL CREDIT SPREAD"
   ]
  },
  {
   "cell_type": "code",
   "execution_count": 1,
   "metadata": {
    "collapsed": false
   },
   "outputs": [],
   "source": [
    "import sys\n",
    "sys.path.append(r'E:\\Datos\\python\\python35\\Proyectos\\Eclipse Workspace\\options\\src')\n",
    "sys.path.append(r'E:\\Datos\\python\\python35\\Proyectos\\Eclipse Workspace\\PlotSignal\\src')\n",
    "sys.path.append(r'E:\\Datos\\python\\python35\\Proyectos\\Eclipse Workspace\\PrintPlot\\src')\n",
    "sys.path.append(r'E:\\Datos\\python\\python35\\Proyectos\\Eclipse Workspace\\PlotSignal\\src')\n",
    "sys.path.append(r'E:\\Datos\\python\\python35\\Proyectos\\Eclipse Workspace\\Options\\src')\n",
    "trade_data_path = r'E:\\Datos\\jupyter notebooks\\trading\\data\\\\'\n",
    "from PlotSignal.Csv_mngt import Csv_mngt\n",
    "from  PlotSignal.PrintPlot import PrintPlot\n",
    "from PlotSignal.PrintTrading import PrintTrading\n",
    "import numpy as np\n",
    "import mpld3\n",
    "from datetime import datetime\n",
    "from matplotlib.dates import  date2num\n",
    "from Options.Value import Calculate\n",
    "%matplotlib inline\n",
    "mpld3.enable_notebook()"
   ]
  },
  {
   "cell_type": "markdown",
   "metadata": {},
   "source": [
    "## ENTRY"
   ]
  },
  {
   "cell_type": "markdown",
   "metadata": {},
   "source": [
    "### BUY LEG "
   ]
  },
  {
   "cell_type": "markdown",
   "metadata": {},
   "source": [
    "#### ENTRY DATA BUY LEG"
   ]
  },
  {
   "cell_type": "code",
   "execution_count": 2,
   "metadata": {
    "collapsed": false
   },
   "outputs": [
    {
     "name": "stdout",
     "output_type": "stream",
     "text": [
      "option_buy = 20161004 +SPY-161021P216.00\n",
      "option_path_buy = E:\\\\Datos\\\\bolsa\\\\cuenta personal\\\\analisis de valores\\\\Trades activos\\\\Scanning\\\\20161004\n",
      "option_type = put\n",
      "strike_buy = 216.0\n",
      "expiration = 2016-10-21 16:00:00\n",
      "premium_buy = 2.17\n",
      "underlying_buy = 215.9\n",
      "entry_date_buy = 2016-10-04 09:35:49\n",
      "trading_day_buy = 2016-10-04\n",
      "ticker = SPY\n",
      "historical_volatility_buy = 0.0\n"
     ]
    }
   ],
   "source": [
    "###################################################################################################################\n",
    "csv_file = '20161004 SPY.csv'\n",
    "###################################################################################################################\n",
    "\n",
    "data_csv = Csv_mngt()\n",
    "data_csv.set_data(trade_data_path + csv_file,';')\n",
    "\n",
    "option_buy = data_csv.extract_data_row('FIELD','option_buy','VALUE')\n",
    "print('option_buy = ' + option_buy)\n",
    "option_path_buy=data_csv.extract_data_row('FIELD','option_path_buy','VALUE')\n",
    "print('option_path_buy = ' + option_path_buy)\n",
    "option_type = data_csv.extract_data_row('FIELD','option_type','VALUE')\n",
    "print('option_type = ' + option_type)\n",
    "strike_buy = float(data_csv.extract_data_row('FIELD','strike_buy','VALUE').replace(',','.'))\n",
    "print('strike_buy = ' + str(strike_buy))\n",
    "expiration = datetime(int(data_csv.extract_data_row('FIELD','expiration_yy','VALUE')),\n",
    "                      int(data_csv.extract_data_row('FIELD','expiration_mm','VALUE')),\n",
    "                      int(data_csv.extract_data_row('FIELD','expiration_dd','VALUE')), 16, 0, 0)\n",
    "print('expiration = ' + str(expiration))\n",
    "premium_buy = float(data_csv.extract_data_row('FIELD','premium_buy','VALUE').replace(',','.'))\n",
    "print('premium_buy = ' + str(premium_buy))\n",
    "try:\n",
    "    underlying_buy = float(data_csv.extract_data_row('FIELD','underlying_buy','VALUE').replace(',','.'))\n",
    "except ValueError:\n",
    "    underlying_buy = 0\n",
    "print('underlying_buy = ' + str(underlying_buy))\n",
    "entry_date_buy = datetime(int(data_csv.extract_data_row('FIELD','entry_date_buy_yy','VALUE')),\n",
    "                      int(data_csv.extract_data_row('FIELD','entry_date_buy_mm','VALUE')),\n",
    "                      int(data_csv.extract_data_row('FIELD','entry_date_buy_dd','VALUE')),\n",
    "                      int(data_csv.extract_data_row('FIELD','entry_date_buy_HH','VALUE')),\n",
    "                      int(data_csv.extract_data_row('FIELD','entry_date_buy_MM','VALUE')),\n",
    "                      int(data_csv.extract_data_row('FIELD','entry_date_buy_SS','VALUE')))\n",
    "print('entry_date_buy = ' + str(entry_date_buy))\n",
    "trading_day_buy = entry_date_buy.date()\n",
    "print('trading_day_buy = ' + str(trading_day_buy))\n",
    "ticker = data_csv.extract_data_row('FIELD','ticker','VALUE')\n",
    "print('ticker = ' + str(ticker))\n",
    "historical_volatility_buy = float(data_csv.extract_data_row('FIELD','historical_volatility_buy','VALUE').replace(',','.'))\n",
    "print('historical_volatility_buy = ' + str(historical_volatility_buy))"
   ]
  },
  {
   "cell_type": "code",
   "execution_count": 7,
   "metadata": {
    "collapsed": false
   },
   "outputs": [
    {
     "name": "stdout",
     "output_type": "stream",
     "text": [
      "['15:35:38', '15:36:21', '15:36:54', '15:37:31', '15:38:21', '15:39:13', '15:40:06', '15:41:03', '15:41:55', '15:42:44', '15:43:36', '15:44:26', '15:45:15', '15:46:02', '15:46:52', '15:47:42', '15:48:31', '15:49:21', '15:50:10', '15:51:00', '15:51:50', '15:52:40', '15:53:29', '15:54:19', '15:55:08', '15:55:59', '15:56:49', '15:57:39', '15:58:28', '15:59:18', '16:00:09', '16:01:00', '16:01:51', '16:02:38', '16:03:29', '16:04:19', '16:05:09', '16:05:58', '16:06:48', '16:07:37', '16:08:27', '16:09:16', '16:10:06', '16:10:56', '16:11:46', '16:12:38', '16:13:37', '16:14:26', '16:15:14', '16:16:05', '16:16:59', '16:17:51', '16:18:41', '16:19:30', '16:20:20', '16:21:07', '16:21:57', '16:22:46', '16:23:36', '16:24:25', '16:25:15', '16:26:05', '16:26:54', '16:27:44', '16:28:33', '16:29:23', '16:30:12', '16:31:04', '16:31:58', '16:32:47', '16:33:34', '16:34:23', '16:35:11', '16:36:00', '16:36:46', '16:37:33', '16:38:21', '16:39:08', '16:39:55', '16:40:44', '16:41:37', '16:42:24', '16:43:12', '16:44:01', '16:44:49', '16:45:38', '16:46:25', '16:47:13', '16:48:00', '16:48:47', '16:49:35', '16:50:22', '16:51:10', '16:51:59', '16:52:46', '16:53:34', '16:54:19', '16:55:06', '16:55:59', '16:56:47', '16:57:34', '16:58:21', '16:59:09', '16:59:56', '17:00:44', '17:01:31', '17:02:18', '17:03:16', '17:04:04', '17:05:01', '17:05:57', '17:06:52', '17:07:40', '17:08:29', '17:09:16', '17:10:05', '17:10:52', '17:11:44', '17:12:33', '17:13:24', '17:14:11', '17:15:07', '17:16:00', '17:16:59', '17:17:48', '17:18:39', '17:19:24', '17:20:14', '17:21:10', '17:22:03', '17:23:03', '17:23:54', '17:24:44', '17:25:32', '17:26:20', '17:27:07', '17:28:05', '17:28:55', '17:29:42', '17:30:45', '17:31:36', '17:32:26', '17:33:20', '17:34:07', '17:34:59', 'Time', '18:10:58', '18:11:41', '18:12:28', '18:13:16', '18:14:11', '18:15:00', '18:15:47', '18:16:39', '18:17:28', '18:18:16', '18:19:07', '18:20:04', '18:21:01', '18:21:49', '18:22:39', '18:23:26', '18:24:14', '18:25:03', '18:25:50', '18:26:47', '18:27:37', '18:28:24', '18:29:14', '18:30:01', '18:30:49', '18:31:36', '18:32:29', '18:33:16', '18:34:06', '18:34:56', '18:35:45', '18:36:33', '18:37:20', '18:38:05', '18:39:00', '18:39:59', '18:40:52', '18:41:42', '18:43:03', '18:43:51', '18:44:39', '18:45:27', '18:46:14', '18:47:04', '18:47:51', '18:48:40', '18:49:32', '18:50:20', '18:51:08', '18:51:57', '18:52:44', '18:53:34', '18:54:21', '18:55:12', '18:56:00', '18:56:47', '18:57:35', '18:58:22', '18:59:20', '19:00:10', '19:00:59', '19:01:44', '19:02:29', '19:03:14', '19:04:00', '19:04:56', '19:05:53', '19:06:38', '19:07:23', '19:08:26', '19:09:22', '19:10:11', '19:11:01', '19:11:46', '19:12:31', '19:13:16', '19:14:02', '19:14:47', '19:15:32', '19:16:19', '19:17:04', '19:17:49', '19:18:32', '19:19:18', '19:20:03', '19:20:54', '19:21:39', '19:22:25', '19:23:17', '19:24:04', '19:25:08', '19:25:53', '19:26:38', '19:27:23', '19:28:12', '19:29:01', '19:29:47', '19:30:32', '19:31:21', '19:32:08', '19:32:55', '19:33:40', '19:34:31', '19:35:16', '19:36:02', '19:36:47', '19:37:32', '19:38:17', '19:39:02', '19:39:48', '19:40:33', '19:41:19', '19:42:04', '19:42:49', '19:43:36', '19:44:21', '19:45:06', '19:45:51', '19:46:37', '19:47:22', '19:48:07', '19:48:52', '19:49:38', '19:50:25', '19:51:10', '19:51:55', '19:52:38', '19:53:23', '19:54:08', '19:54:54', '19:55:39', '19:56:24', '19:57:09', '19:57:55', '19:58:40', '19:59:25', '20:00:10', '20:00:58', '20:01:43', '20:02:28', '20:03:14', '20:03:59', '20:04:44', '20:05:29', '20:06:14', '20:06:59', '20:07:45', '20:08:30', '20:09:15', '20:10:00', '20:10:48', '20:11:33', '20:12:18', '20:13:01', 'Time', '20:15:55', '20:16:48', '20:17:38', '20:18:24', '20:19:10', '20:19:55', '20:20:40', '20:21:25', '20:22:11', '20:22:56', '20:23:41', '20:24:27', '20:25:24', '20:26:10', '20:26:58', '20:27:43', '20:28:33', '20:29:18', '20:30:03', '20:30:46', '20:31:35', '20:32:20', '20:33:06', '20:33:51', '20:34:37', '20:35:26', '20:36:12', '20:36:57', '20:37:42', '20:38:27', '20:39:12', '20:39:58', '20:40:49', '20:41:39', '20:42:24', '20:43:11', '20:43:56', '20:44:42', '20:45:27', '20:46:12', '20:46:58', '20:47:43', '20:48:31', '20:49:16', '20:50:01', '20:50:47', '20:51:32', '20:52:17', '20:53:04', '20:53:49', '20:54:34', '20:55:19', '20:56:06', '20:56:51', '20:57:37', '20:58:25', '20:59:13', '21:00:02', '21:00:46', '21:01:31', '21:02:16', '21:03:02', '21:03:47', '21:04:32', '21:05:27', '21:06:12', '21:07:06', '21:07:55', '21:08:40', '21:09:25', '21:10:11', '21:10:56', '21:11:41', '21:12:26', '21:13:12', '21:13:57', '21:14:42', '21:15:27', '21:16:12', '21:16:57', '21:17:43', '21:18:28', '21:19:13', '21:19:58', '21:20:44', '21:21:31', '21:22:16', '21:23:02', '21:23:47', '21:24:36', '21:25:22', '21:26:07', '21:26:52', '21:27:37', '21:28:22', '21:29:08', '21:29:53', '21:30:38', '21:31:26', '21:32:15', '21:33:00', '21:33:45', '21:34:32', '21:35:17', '21:36:03', '21:36:46', '21:37:31', '21:38:16', '21:39:01', '21:39:48', '21:40:37', '21:41:29', '21:42:14', '21:43:04', '21:43:48', '21:44:33', '21:45:18', '21:46:05', '21:46:50', '21:47:37', '21:48:23', '21:49:08', '21:49:53', '21:50:49', '21:51:30', '21:52:11', '21:52:51', '21:53:32', '21:54:13', '21:54:54', '21:55:35', '21:56:16', '21:56:57', '21:57:37', '21:58:18', '21:58:59', '21:59:40', '22:00:26', '22:01:06', '22:01:47', '22:02:28', '22:03:09', '22:03:50', '22:04:31', '22:05:12']\n",
      "1900-01-01 17:34:59\n",
      "1900-01-01 20:13:01\n",
      "['15:35:38', '15:36:21', '15:36:54', '15:37:31', '15:38:21', '15:39:13', '15:40:06', '15:41:03', '15:41:55', '15:42:44', '15:43:36', '15:44:26', '15:45:15', '15:46:02', '15:46:52', '15:47:42', '15:48:31', '15:49:21', '15:50:10', '15:51:00', '15:51:50', '15:52:40', '15:53:29', '15:54:19', '15:55:08', '15:55:59', '15:56:49', '15:57:39', '15:58:28', '15:59:18', '16:00:09', '16:01:00', '16:01:51', '16:02:38', '16:03:29', '16:04:19', '16:05:09', '16:05:58', '16:06:48', '16:07:37', '16:08:27', '16:09:16', '16:10:06', '16:10:56', '16:11:46', '16:12:38', '16:13:37', '16:14:26', '16:15:14', '16:16:05', '16:16:59', '16:17:51', '16:18:41', '16:19:30', '16:20:20', '16:21:07', '16:21:57', '16:22:46', '16:23:36', '16:24:25', '16:25:15', '16:26:05', '16:26:54', '16:27:44', '16:28:33', '16:29:23', '16:30:12', '16:31:04', '16:31:58', '16:32:47', '16:33:34', '16:34:23', '16:35:11', '16:36:00', '16:36:46', '16:37:33', '16:38:21', '16:39:08', '16:39:55', '16:40:44', '16:41:37', '16:42:24', '16:43:12', '16:44:01', '16:44:49', '16:45:38', '16:46:25', '16:47:13', '16:48:00', '16:48:47', '16:49:35', '16:50:22', '16:51:10', '16:51:59', '16:52:46', '16:53:34', '16:54:19', '16:55:06', '16:55:59', '16:56:47', '16:57:34', '16:58:21', '16:59:09', '16:59:56', '17:00:44', '17:01:31', '17:02:18', '17:03:16', '17:04:04', '17:05:01', '17:05:57', '17:06:52', '17:07:40', '17:08:29', '17:09:16', '17:10:05', '17:10:52', '17:11:44', '17:12:33', '17:13:24', '17:14:11', '17:15:07', '17:16:00', '17:16:59', '17:17:48', '17:18:39', '17:19:24', '17:20:14', '17:21:10', '17:22:03', '17:23:03', '17:23:54', '17:24:44', '17:25:32', '17:26:20', '17:27:07', '17:28:05', '17:28:55', '17:29:42', '17:30:45', '17:31:36', '17:32:26', '17:33:20', '17:34:07', '17:34:59', '18:10:58', '18:11:41', '18:12:28', '18:13:16', '18:14:11', '18:15:00', '18:15:47', '18:16:39', '18:17:28', '18:18:16', '18:19:07', '18:20:04', '18:21:01', '18:21:49', '18:22:39', '18:23:26', '18:24:14', '18:25:03', '18:25:50', '18:26:47', '18:27:37', '18:28:24', '18:29:14', '18:30:01', '18:30:49', '18:31:36', '18:32:29', '18:33:16', '18:34:06', '18:34:56', '18:35:45', '18:36:33', '18:37:20', '18:38:05', '18:39:00', '18:39:59', '18:40:52', '18:41:42', '18:43:03', '18:43:51', '18:44:39', '18:45:27', '18:46:14', '18:47:04', '18:47:51', '18:48:40', '18:49:32', '18:50:20', '18:51:08', '18:51:57', '18:52:44', '18:53:34', '18:54:21', '18:55:12', '18:56:00', '18:56:47', '18:57:35', '18:58:22', '18:59:20', '19:00:10', '19:00:59', '19:01:44', '19:02:29', '19:03:14', '19:04:00', '19:04:56', '19:05:53', '19:06:38', '19:07:23', '19:08:26', '19:09:22', '19:10:11', '19:11:01', '19:11:46', '19:12:31', '19:13:16', '19:14:02', '19:14:47', '19:15:32', '19:16:19', '19:17:04', '19:17:49', '19:18:32', '19:19:18', '19:20:03', '19:20:54', '19:21:39', '19:22:25', '19:23:17', '19:24:04', '19:25:08', '19:25:53', '19:26:38', '19:27:23', '19:28:12', '19:29:01', '19:29:47', '19:30:32', '19:31:21', '19:32:08', '19:32:55', '19:33:40', '19:34:31', '19:35:16', '19:36:02', '19:36:47', '19:37:32', '19:38:17', '19:39:02', '19:39:48', '19:40:33', '19:41:19', '19:42:04', '19:42:49', '19:43:36', '19:44:21', '19:45:06', '19:45:51', '19:46:37', '19:47:22', '19:48:07', '19:48:52', '19:49:38', '19:50:25', '19:51:10', '19:51:55', '19:52:38', '19:53:23', '19:54:08', '19:54:54', '19:55:39', '19:56:24', '19:57:09', '19:57:55', '19:58:40', '19:59:25', '20:00:10', '20:00:58', '20:01:43', '20:02:28', '20:03:14', '20:03:59', '20:04:44', '20:05:29', '20:06:14', '20:06:59', '20:07:45', '20:08:30', '20:09:15', '20:10:00', '20:10:48', '20:11:33', '20:12:18', '20:13:01', '20:15:55', '20:16:48', '20:17:38', '20:18:24', '20:19:10', '20:19:55', '20:20:40', '20:21:25', '20:22:11', '20:22:56', '20:23:41', '20:24:27', '20:25:24', '20:26:10', '20:26:58', '20:27:43', '20:28:33', '20:29:18', '20:30:03', '20:30:46', '20:31:35', '20:32:20', '20:33:06', '20:33:51', '20:34:37', '20:35:26', '20:36:12', '20:36:57', '20:37:42', '20:38:27', '20:39:12', '20:39:58', '20:40:49', '20:41:39', '20:42:24', '20:43:11', '20:43:56', '20:44:42', '20:45:27', '20:46:12', '20:46:58', '20:47:43', '20:48:31', '20:49:16', '20:50:01', '20:50:47', '20:51:32', '20:52:17', '20:53:04', '20:53:49', '20:54:34', '20:55:19', '20:56:06', '20:56:51', '20:57:37', '20:58:25', '20:59:13', '21:00:02', '21:00:46', '21:01:31', '21:02:16', '21:03:02', '21:03:47', '21:04:32', '21:05:27', '21:06:12', '21:07:06', '21:07:55', '21:08:40', '21:09:25', '21:10:11', '21:10:56', '21:11:41', '21:12:26', '21:13:12', '21:13:57', '21:14:42', '21:15:27', '21:16:12', '21:16:57', '21:17:43', '21:18:28', '21:19:13', '21:19:58', '21:20:44', '21:21:31', '21:22:16', '21:23:02', '21:23:47', '21:24:36', '21:25:22', '21:26:07', '21:26:52', '21:27:37', '21:28:22', '21:29:08', '21:29:53', '21:30:38', '21:31:26', '21:32:15', '21:33:00', '21:33:45', '21:34:32', '21:35:17', '21:36:03', '21:36:46', '21:37:31', '21:38:16', '21:39:01', '21:39:48', '21:40:37', '21:41:29', '21:42:14', '21:43:04', '21:43:48', '21:44:33', '21:45:18', '21:46:05', '21:46:50', '21:47:37', '21:48:23', '21:49:08', '21:49:53', '21:50:49', '21:51:30', '21:52:11', '21:52:51', '21:53:32', '21:54:13', '21:54:54', '21:55:35', '21:56:16', '21:56:57', '21:57:37', '21:58:18', '21:58:59', '21:59:40', '22:00:26', '22:01:06', '22:01:47', '22:02:28', '22:03:09', '22:03:50', '22:04:31', '22:05:12']\n",
      "2.24\n"
     ]
    }
   ],
   "source": [
    "# get data\n",
    "csv = Csv_mngt()\n",
    "csv.set_data(option_path_buy + '\\\\Opciones\\\\' + option_buy + '.txt',';')\n",
    "# clean up of the csv deleting rows with no time entry\n",
    "time_list=csv.extract_data_col('Time')\n",
    "for each in time_list:\n",
    "    try:\n",
    "        time_conversion=datetime.strptime(each, '%H:%M:%S')\n",
    "    except ValueError:\n",
    "        csv.delete_data_row('Time',each)\n",
    "time_list=csv.extract_data_col('Time')\n",
    "bid_str = csv.extract_data_col('Bid Underlier')\n",
    "for i, each in enumerate(bid_str):\n",
    "    try:\n",
    "        bid_str[i]=float(each.replace(',','.'))\n",
    "    except ValueError:\n",
    "        if i:\n",
    "            bid_str[i] = bid_str[i-1]\n",
    "        else:\n",
    "            bid_str[i] = 0\n",
    "    finally:\n",
    "        if bid_str[i] == 0 and i > 0:\n",
    "            bid_str[i] = bid_str[i-1]\n",
    "bid_list = np.asarray(bid_str)\n",
    "ask_str = csv.extract_data_col('Ask Underlier')\n",
    "for i, each in enumerate(ask_str):\n",
    "    try:\n",
    "        ask_str[i]=float(each.replace(',','.'))\n",
    "    except ValueError:\n",
    "        if i:\n",
    "            ask_str[i] = ask_str[i-1]\n",
    "        else:\n",
    "            ask_str[i] = 0\n",
    "    finally:\n",
    "        if ask_str[i] == 0 and i > 0:\n",
    "            ask_str[i] = ask_str[i-1]\n",
    "ask_list = np.asarray(ask_str)\n",
    "target_str = csv.extract_data_col('Target')\n",
    "clean_target_str = []\n",
    "for each in target_str:\n",
    "    try:\n",
    "        clean_target_str.append(float(each.replace(',','.')))\n",
    "    except ValueError:\n",
    "        clean_target_str.append(0)\n",
    "target_list = np.asarray(clean_target_str)\n",
    "time_list = csv.date2num_list(time_list, '%H:%M:%S')-0.25\n",
    "time_list = time_list - int(time_list[0]) + date2num(trading_day_buy)\n",
    "under_price = (bid_list + ask_list) / 2\n",
    "premium_bid_str = csv.extract_data_col('Bid')\n",
    "premium_bid = np.asarray([float(x.replace(',','.')) for x in premium_bid_str])\n",
    "premium_ask_str = csv.extract_data_col('Ask')\n",
    "premium_ask = np.asarray([float(x.replace(',','.')) for x in premium_ask_str])\n",
    "for i,v in enumerate(time_list):\n",
    "    if date2num(entry_date_buy) <= v:\n",
    "        break\n",
    "if not i:\n",
    "    i=1\n",
    "ask_price_buy = premium_ask[i-1]\n",
    "print(ask_price_buy)"
   ]
  },
  {
   "cell_type": "markdown",
   "metadata": {},
   "source": [
    "#### UNDERLYING BUY LEG"
   ]
  },
  {
   "cell_type": "code",
   "execution_count": null,
   "metadata": {
    "collapsed": false
   },
   "outputs": [],
   "source": [
    "\n",
    "graph = PrintPlot(time_list, bid_list)\n",
    "graph.init_plot(trace_type = 'bd-', data_name = 'Bid', x_name = 'time', fig_size = (12, 8), title_plot = ticker, log_y = False)\n",
    "graph.append_trace(ask_list, 'rd-', 'Ask')\n",
    "graph.show()\n",
    "print('entry_date_buy = ' + str(entry_date_buy))"
   ]
  },
  {
   "cell_type": "markdown",
   "metadata": {},
   "source": [
    "#### TRADING BUY LEG"
   ]
  },
  {
   "cell_type": "code",
   "execution_count": null,
   "metadata": {
    "collapsed": false
   },
   "outputs": [],
   "source": [
    "graph_trading_buy = PrintPlot(time_list, premium_bid)\n",
    "graph_trading_buy.init_plot(trace_type = 'bd-', data_name = 'Bid', x_name = 'time', fig_size = (12, 8), title_plot = ticker, log_y = False)\n",
    "graph_trading_buy.append_trace(premium_ask, 'rd-', 'Ask')\n",
    "graph_trading_buy.append_trace(target_list, 'kd', 'Target')\n",
    "graph_trading_buy.show()\n",
    "print('entry_date_buy = ' + str(entry_date_buy))\n",
    "print('premium_buy = ' + str(premium_buy))"
   ]
  },
  {
   "cell_type": "markdown",
   "metadata": {},
   "source": [
    "#### IMPLIED VOLATILITY BUY LEG"
   ]
  },
  {
   "cell_type": "code",
   "execution_count": null,
   "metadata": {
    "collapsed": false
   },
   "outputs": [],
   "source": [
    "# buy leg implied volatility\n",
    "graph_IV_buy = PrintTrading()\n",
    "graph_IV_buy.print_IV(option_type, premium_bid, under_price, strike_buy, time_list, expiration, data_name = 'bid',\n",
    "                     trace_type = 'g-')\n",
    "time_leg_IV_in = date2num(entry_date_buy)\n",
    "time_to_exp = date2num(expiration)-date2num(entry_date_buy)\n",
    "buy_leg_IV_in = Calculate().find_IV(option_type, premium_buy, underlying_buy, strike_buy, time_to_exp)\n",
    "xy = (date2num(entry_date_buy), buy_leg_IV_in)\n",
    "print(xy)\n",
    "xy_text = (date2num(entry_date_buy), buy_leg_IV_in * 0.99)\n",
    "\n",
    "graph_IV_buy.annotate('buy leg in', xy, xy_text)\n",
    "graph_IV_buy.text('X', date2num(entry_date_buy), buy_leg_IV_in)\n",
    "premium_trade = (premium_bid + premium_ask) / 2\n",
    "graph_IV_buy.add_IV(option_type, premium_trade, under_price, strike_buy, time_list, expiration, data_name = 'fair',\n",
    "                     trace_type = 'b--')\n",
    "graph_IV_buy.add_IV(option_type, premium_ask, under_price, strike_buy, time_list, expiration, data_name = 'ask',\n",
    "                     trace_type = 'r-')\n",
    "graph_IV_buy.show()\n",
    "print('entry_date_buy = ' + str(entry_date_buy))"
   ]
  },
  {
   "cell_type": "markdown",
   "metadata": {},
   "source": [
    "#### IMPLIED VOLATILITY CALCULATED BUY LEG"
   ]
  },
  {
   "cell_type": "code",
   "execution_count": null,
   "metadata": {
    "collapsed": false
   },
   "outputs": [],
   "source": [
    "# Buy_leg, IV\n",
    "print('IV of buy leg in = ' + str(buy_leg_IV_in) + '    premium buy leg = ' + str(premium_buy))\n",
    "print('\\nPremium market buy = ' + '{0:.2f}'.format(ask_price_buy))\n",
    "try:\n",
    "    premium_historical_buy = Calculate().value(option_type, underlying_buy, strike_buy, date2num(expiration) - \n",
    "                                           date2num(entry_date_buy), historical_volatility_buy, 0.01, 0)\n",
    "except ZeroDivisionError:\n",
    "    premium_historical_buy = 0\n",
    "print('\\nHistorical volatility buy = ' + str(historical_volatility_buy) +\n",
    "      '    premium HV buy = ' + '{0:.2f}'.format(premium_historical_buy))"
   ]
  },
  {
   "cell_type": "markdown",
   "metadata": {},
   "source": [
    "#### RESULTS ENTRY BUY LEG"
   ]
  },
  {
   "cell_type": "markdown",
   "metadata": {},
   "source": [
    "##### ROBOT TRADING"
   ]
  },
  {
   "cell_type": "code",
   "execution_count": null,
   "metadata": {
    "collapsed": false
   },
   "outputs": [],
   "source": [
    "print('IV of buy leg in = ' + str(buy_leg_IV_in) + '    premium buy leg = ' + str(premium_buy))\n",
    "premium_robot_entry = - premium_buy  # my profit at the entry\n",
    "print('\\n premium robot entry = ' + '{0:.2f}'.format(premium_robot_entry))\n",
    "robot_profit = premium_robot_entry\n",
    "print('\\n robot profit = ' + '{0:.2f}'.format(robot_profit))"
   ]
  },
  {
   "cell_type": "markdown",
   "metadata": {},
   "source": [
    "##### MARKET TRADING"
   ]
  },
  {
   "cell_type": "code",
   "execution_count": null,
   "metadata": {
    "collapsed": false
   },
   "outputs": [],
   "source": [
    "print('Premium market buy = ' + '{0:.2f}'.format(ask_price_buy))\n",
    "premium_market_entry = - ask_price_buy\n",
    "print('\\n premium market entry = ' + '{0:.2f}'.format(premium_market_entry))\n",
    "market_profit = premium_market_entry\n",
    "print('\\n trading at market prices profit = ' + '{0:.2f}'.format(market_profit))\n",
    "if market_profit < robot_profit:\n",
    "    improvement = abs(robot_profit-market_profit)/abs(market_profit)\n",
    "    print('\\n\\n\\nROBOT HAS GOT BETTER RESULTS THAN MARKET PRICES = ' + '{0:.2%}'.format(improvement))\n",
    "elif market_profit == robot_profit:\n",
    "    print('\\n\\n\\nROBOT HAS NOT IMPROVED MARKET TRADING')\n",
    "else:    \n",
    "    improvement = abs(robot_profit-market_profit)/abs(market_profit)\n",
    "    print('\\n\\n\\nROBOT HAS GOT WORSE RESULTS = ' + '{0:.2%}'.format(improvement))\n",
    "print('\\n   robot profit = ' + '{0:.2f}'.format(robot_profit))\n",
    "print('\\n   trading at market prices profit = ' + '{0:.2f}'.format(market_profit))"
   ]
  },
  {
   "cell_type": "markdown",
   "metadata": {},
   "source": [
    "##### TRADING AT HISTORICAL VOLATILITY"
   ]
  },
  {
   "cell_type": "code",
   "execution_count": null,
   "metadata": {
    "collapsed": false
   },
   "outputs": [],
   "source": [
    "print('Premium historical buy = ' + '{0:.2f}'.format(premium_historical_buy))\n",
    "premium_historical_entry = - premium_historical_buy  # my profit at the entry\n",
    "print('\\n premium historical entry = ' + '{0:.2f}'.format(premium_historical_entry))\n",
    "historical_profit = premium_historical_entry\n",
    "print('\\n trading at historical volatility prices profit = ' + '{0:.2f}'.format(historical_profit))\n",
    "if historical_profit < robot_profit:\n",
    "    improvement = abs(robot_profit-historical_profit)/abs(historical_profit)\n",
    "    print('\\n\\n\\nROBOT HAS GOT BETTER RESULTS THAN HISTORICAL VOLATILITY PRICES = ' + '{0:.2%}'.format(improvement))\n",
    "elif historical_profit == robot_profit:\n",
    "    print('\\n\\n\\nROBOT HAS NOT IMPROVED MARKET TRADING RESPECT TO HISTORICAL VOLATILITY PRICES')\n",
    "else:    \n",
    "    improvement = abs(robot_profit-historical_profit)/abs(historical_profit)\n",
    "    print('\\n\\n\\nROBOT HAS GOT WORSE RESULTS THAN HISTORICAL VOLATILITY PRICES = ' + '{0:.2%}'.format(improvement))\n",
    "print('\\n   robot profit = ' + '{0:.2f}'.format(robot_profit))\n",
    "print('\\n   trading at historical volatility prices profit = ' + '{0:.2f}'.format(historical_profit))"
   ]
  },
  {
   "cell_type": "markdown",
   "metadata": {},
   "source": [
    "### WRITE LEG"
   ]
  },
  {
   "cell_type": "markdown",
   "metadata": {},
   "source": [
    "   #### ENTRY DATA WRITE LEG"
   ]
  },
  {
   "cell_type": "code",
   "execution_count": null,
   "metadata": {
    "collapsed": false
   },
   "outputs": [],
   "source": [
    "data_csv = Csv_mngt()\n",
    "data_csv.set_data(trade_data_path + csv_file,';')\n",
    "\n",
    "option_write = data_csv.extract_data_row('FIELD','option_write','VALUE')\n",
    "print('option_write = ' + option_write)\n",
    "option_path_write=data_csv.extract_data_row('FIELD','option_path_write','VALUE')\n",
    "print('option_path_write = ' + option_path_write)\n",
    "strike_write = float(data_csv.extract_data_row('FIELD','strike_write','VALUE').replace(',','.'))\n",
    "print('strike_write = ' + str(strike_write))\n",
    "premium_write = float(data_csv.extract_data_row('FIELD','premium_write','VALUE').replace(',','.'))\n",
    "print('premium_write = ' + str(premium_write))\n",
    "try:\n",
    "    underlying_write = float(data_csv.extract_data_row('FIELD','underlying_write','VALUE').replace(',','.'))\n",
    "except ValueError:\n",
    "    underlying_write = 0\n",
    "print('underlying_write = ' + str(underlying_write))\n",
    "entry_date_write = datetime(int(data_csv.extract_data_row('FIELD','entry_date_write_yy','VALUE')),\n",
    "                      int(data_csv.extract_data_row('FIELD','entry_date_write_mm','VALUE')),\n",
    "                      int(data_csv.extract_data_row('FIELD','entry_date_write_dd','VALUE')),\n",
    "                      int(data_csv.extract_data_row('FIELD','entry_date_write_HH','VALUE')),\n",
    "                      int(data_csv.extract_data_row('FIELD','entry_date_write_MM','VALUE')),\n",
    "                      int(data_csv.extract_data_row('FIELD','entry_date_write_SS','VALUE')))\n",
    "print('entry_date_write = ' + str(entry_date_write))\n",
    "trading_day_write = entry_date_write.date()\n",
    "print('trading_day_write = ' + str(trading_day_write))\n",
    "historical_volatility_write = float(data_csv.extract_data_row('FIELD','historical_volatility_write','VALUE').replace(',','.'))\n",
    "print('historical_volatility_write = ' + str(historical_volatility_write))"
   ]
  },
  {
   "cell_type": "code",
   "execution_count": null,
   "metadata": {
    "collapsed": false
   },
   "outputs": [],
   "source": [
    "# get data\n",
    "csv = Csv_mngt()\n",
    "csv.set_data(option_path_write + '\\\\Opciones\\\\' + option_write + '.txt',';')\n",
    "# clean up of the csv deleting rows with no time entry\n",
    "time_list=csv.extract_data_col('Time')\n",
    "for each in time_list:\n",
    "    try:\n",
    "        time_conversion=datetime.strptime(each, '%H:%M:%S')\n",
    "    except ValueError:\n",
    "        csv.delete_data_row('Time',each)\n",
    "time_list=csv.extract_data_col('Time')\n",
    "bid_str = csv.extract_data_col('Bid Underlier')\n",
    "for i, each in enumerate(bid_str):\n",
    "    try:\n",
    "        bid_str[i]=float(each.replace(',','.'))\n",
    "    except ValueError:\n",
    "        if i:\n",
    "            bid_str[i] = bid_str[i-1]\n",
    "        else:\n",
    "            bid_str[i] = 0\n",
    "    finally:\n",
    "        if bid_str[i] == 0 and i > 0:\n",
    "            bid_str[i] = bid_str[i-1]\n",
    "bid_list = np.asarray(bid_str)\n",
    "ask_str = csv.extract_data_col('Ask Underlier')\n",
    "for i, each in enumerate(ask_str):\n",
    "    try:\n",
    "        ask_str[i]=float(each.replace(',','.'))\n",
    "    except ValueError:\n",
    "        if i:\n",
    "            ask_str[i] = ask_str[i-1]\n",
    "        else:\n",
    "            ask_str[i] = 0\n",
    "    finally:\n",
    "        if ask_str[i] == 0 and i > 0:\n",
    "            ask_str[i] = ask_str[i-1]\n",
    "ask_list = np.asarray(ask_str)\n",
    "target_str = csv.extract_data_col('Target')\n",
    "clean_target_str = []\n",
    "for each in target_str:\n",
    "    try:\n",
    "        clean_target_str.append(float(each.replace(',','.')))\n",
    "    except ValueError:\n",
    "        clean_target_str.append(0)\n",
    "target_list = np.asarray(clean_target_str)\n",
    "time_list = csv.date2num_list(time_list, '%H:%M:%S')-0.25\n",
    "time_list = time_list - int(time_list[0]) + date2num(trading_day_buy)\n",
    "under_price = (bid_list + ask_list) / 2\n",
    "premium_bid_str = csv.extract_data_col('Bid')\n",
    "premium_bid = np.asarray([float(x.replace(',','.')) for x in premium_bid_str])\n",
    "premium_ask_str = csv.extract_data_col('Ask')\n",
    "premium_ask = np.asarray([float(x.replace(',','.')) for x in premium_ask_str])\n",
    "for i,v in enumerate(time_list):\n",
    "    if date2num(entry_date_write) <= v:\n",
    "        break\n",
    "if not i:\n",
    "    i=1\n",
    "bid_price_write = premium_bid[i-1]\n",
    "print(bid_price_write)"
   ]
  },
  {
   "cell_type": "markdown",
   "metadata": {},
   "source": [
    "#### UNDERLYING WRITE LEG"
   ]
  },
  {
   "cell_type": "code",
   "execution_count": null,
   "metadata": {
    "collapsed": false
   },
   "outputs": [],
   "source": [
    "graph = PrintPlot(time_list, bid_list)\n",
    "graph.init_plot(trace_type = 'bd-', data_name = 'Bid', x_name = 'time', fig_size = (12, 8), title_plot = ticker, log_y = False)\n",
    "graph.append_trace(ask_list, 'rd-', 'Ask')\n",
    "graph.show()\n",
    "print('entry_date_write = ' + str(entry_date_write))"
   ]
  },
  {
   "cell_type": "markdown",
   "metadata": {},
   "source": [
    "#### TRADING WRITE LEG"
   ]
  },
  {
   "cell_type": "code",
   "execution_count": null,
   "metadata": {
    "collapsed": false
   },
   "outputs": [],
   "source": [
    "graph_trading_buy = PrintPlot(time_list, premium_bid)\n",
    "graph_trading_buy.init_plot(trace_type = 'bd-', data_name = 'Bid', x_name = 'time', fig_size = (12, 8), title_plot = ticker, log_y = False)\n",
    "graph_trading_buy.append_trace(premium_ask, 'rd-', 'Ask')\n",
    "graph_trading_buy.append_trace(target_list, 'kx', 'Target')\n",
    "graph_trading_buy.show()\n",
    "print('entry_date_write = ' + str(entry_date_write))\n",
    "print('premium_write = ' + str(premium_write))"
   ]
  },
  {
   "cell_type": "markdown",
   "metadata": {},
   "source": [
    "#### IMPLIED VOLATILITY WRITE LEG"
   ]
  },
  {
   "cell_type": "code",
   "execution_count": null,
   "metadata": {
    "collapsed": false
   },
   "outputs": [],
   "source": [
    "# buy leg implied volatility\n",
    "graph_IV_write = PrintTrading()\n",
    "graph_IV_write.print_IV(option_type, premium_ask, under_price, strike_write, time_list, expiration, data_name = 'ask',\n",
    "                     trace_type = 'g-')\n",
    "time_leg_IV_in = date2num(entry_date_write)\n",
    "time_to_exp = date2num(expiration)-date2num(entry_date_write)\n",
    "write_leg_IV_in = Calculate().find_IV(option_type, -premium_write, underlying_write, strike_write, time_to_exp)\n",
    "xy = (date2num(entry_date_write), write_leg_IV_in)\n",
    "xy_text = (date2num(entry_date_write), write_leg_IV_in * 0.99)\n",
    "graph_IV_write.annotate('write leg in', xy, xy_text)\n",
    "graph_IV_write.text('X', date2num(entry_date_write), write_leg_IV_in)\n",
    "premium_trade = (premium_bid + premium_ask) / 2\n",
    "graph_IV_buy.add_IV(option_type, premium_trade, under_price, strike_write, time_list, expiration, data_name = 'fair',\n",
    "                     trace_type = 'b--')\n",
    "graph_IV_buy.add_IV(option_type, premium_bid, under_price, strike_write, time_list, expiration, data_name = 'bid',\n",
    "                     trace_type = 'r-')\n",
    "graph_IV_write.show()\n",
    "print('entry_date_write = ' + str(entry_date_write))"
   ]
  },
  {
   "cell_type": "markdown",
   "metadata": {},
   "source": [
    "#### IMPLIED VOLATILITY CALCULATED"
   ]
  },
  {
   "cell_type": "code",
   "execution_count": null,
   "metadata": {
    "collapsed": false
   },
   "outputs": [],
   "source": [
    "# Write_leg, IV\n",
    "print('IV of write leg in = ' + str(write_leg_IV_in) + '    premium write leg = ' + str(premium_write))\n",
    "print('\\nPremium market write = ' + '{0:.2f}'.format(bid_price_write))\n",
    "try:\n",
    "    premium_historical_write = Calculate().value(option_type, underlying_write, strike_write, date2num(expiration) - \n",
    "                                           date2num(entry_date_write), historical_volatility_write, 0.01, 0)\n",
    "except ZeroDivisionError:\n",
    "    premium_historical_write = 0\n",
    "print('\\nHistorical volatility write = ' + str(historical_volatility_write) +\n",
    "      '    premium HV write = ' + '{0:.2f}'.format(premium_historical_write))\n"
   ]
  },
  {
   "cell_type": "markdown",
   "metadata": {},
   "source": [
    "#### RESULTS ENTRY WRITE LEG"
   ]
  },
  {
   "cell_type": "markdown",
   "metadata": {},
   "source": [
    "##### ROBOT TRADING"
   ]
  },
  {
   "cell_type": "code",
   "execution_count": null,
   "metadata": {
    "collapsed": false
   },
   "outputs": [],
   "source": [
    "print('IV of buy leg in = ' + str(buy_leg_IV_in) + '    premium buy leg = ' + str(premium_buy))\n",
    "print('IV of write leg in = ' + str(write_leg_IV_in) + '    premium write leg = ' + str(premium_write))\n",
    "premium_robot_entry = (-premium_write) - premium_buy  # my profit at the entry\n",
    "print('\\n premium robot entry = ' + '{0:.2f}'.format(premium_robot_entry))\n",
    "robot_profit = premium_robot_entry \n",
    "print('\\n robot profit = ' + '{0:.2f}'.format(robot_profit))"
   ]
  },
  {
   "cell_type": "markdown",
   "metadata": {},
   "source": [
    "##### MARKET TRADING"
   ]
  },
  {
   "cell_type": "code",
   "execution_count": null,
   "metadata": {
    "collapsed": false
   },
   "outputs": [],
   "source": [
    "print('Premium market buy = ' + '{0:.2f}'.format(ask_price_buy))\n",
    "print('Premium market write = ' + '{0:.2f}'.format(bid_price_write))\n",
    "premium_market_entry = bid_price_write - ask_price_buy\n",
    "print('\\n premium market entry = ' + '{0:.2f}'.format(premium_market_entry))\n",
    "market_profit = premium_market_entry\n",
    "print('\\n trading at market prices profit = ' + '{0:.2f}'.format(market_profit))\n",
    "if market_profit < robot_profit:\n",
    "    improvement = abs(robot_profit-market_profit)/abs(market_profit)\n",
    "    print('\\n\\n\\nROBOT HAS GOT BETTER RESULTS THAN MARKET PRICES = ' + '{0:.2%}'.format(improvement))\n",
    "elif market_profit == robot_profit:\n",
    "    print('\\n\\n\\nROBOT HAS NOT IMPROVED MARKET TRADING')\n",
    "else:    \n",
    "    improvement = abs(robot_profit-market_profit)/abs(market_profit)\n",
    "    print('\\n\\n\\nROBOT HAS GOT WORSE RESULTS = ' + '{0:.2%}'.format(improvement))\n",
    "print('\\n   robot profit = ' + '{0:.2f}'.format(robot_profit))\n",
    "print('\\n   trading at market prices profit = ' + '{0:.2f}'.format(market_profit))"
   ]
  },
  {
   "cell_type": "markdown",
   "metadata": {},
   "source": [
    "##### TRADING AT HISTORICAL VOLATILITY"
   ]
  },
  {
   "cell_type": "code",
   "execution_count": null,
   "metadata": {
    "collapsed": false
   },
   "outputs": [],
   "source": [
    "print('Premium historical buy = ' + '{0:.2f}'.format(premium_historical_buy))\n",
    "print('Premium historical write = ' + '{0:.2f}'.format(premium_historical_write))\n",
    "premium_historical_entry = - premium_historical_buy + premium_historical_write # my profit at the entry\n",
    "print('\\n premium historical entry = ' + '{0:.2f}'.format(premium_historical_entry))\n",
    "historical_profit = premium_historical_entry\n",
    "print('\\n trading at historical volatility prices profit = ' + '{0:.2f}'.format(historical_profit))\n",
    "if historical_profit < robot_profit:\n",
    "    improvement = abs(robot_profit-historical_profit)/abs(historical_profit)\n",
    "    print('\\n\\n\\nROBOT HAS GOT BETTER RESULTS THAN HISTORICAL VOLATILITY PRICES = ' + '{0:.2%}'.format(improvement))\n",
    "elif historical_profit == robot_profit:\n",
    "    print('\\n\\n\\nROBOT HAS NOT IMPROVED MARKET TRADING RESPECT TO HISTORICAL VOLATILITY PRICES')\n",
    "else:    \n",
    "    improvement = abs(robot_profit-historical_profit)/abs(historical_profit)\n",
    "    print('\\n\\n\\nROBOT HAS GOT WORSE RESULTS THAN HISTORICAL VOLATILITY PRICES = ' + '{0:.2%}'.format(improvement))\n",
    "print('\\n   robot profit = ' + '{0:.2f}'.format(robot_profit))\n",
    "print('\\n   trading at historical volatility prices profit = ' + '{0:.2f}'.format(historical_profit))"
   ]
  },
  {
   "cell_type": "markdown",
   "metadata": {},
   "source": [
    "## EXIT"
   ]
  },
  {
   "cell_type": "markdown",
   "metadata": {},
   "source": [
    "### BUY LEG\n",
    "#### EXIT DATA BUY LEG"
   ]
  },
  {
   "cell_type": "code",
   "execution_count": null,
   "metadata": {
    "collapsed": false
   },
   "outputs": [],
   "source": [
    "option_buy_exit = data_csv.extract_data_row('FIELD','option_buy_exit','VALUE')\n",
    "print('option_buy_exit = ' + option_buy_exit)\n",
    "option_path_buy_exit = data_csv.extract_data_row('FIELD','option_path_buy_exit','VALUE')\n",
    "print('option_path_buy_exit = ' + option_path_buy_exit)\n",
    "premium_buy_exit = float(data_csv.extract_data_row('FIELD','premium_buy_exit','VALUE').replace(',','.'))\n",
    "print('premium_buy_exit = ' + str(premium_buy_exit))\n",
    "try:\n",
    "    underlying_buy_exit = float(data_csv.extract_data_row('FIELD','underlying_buy_exit','VALUE').replace(',','.'))\n",
    "except ValueError:\n",
    "    underlying_buy_exit = 0\n",
    "print('underlying_buy_exit = ' + str(underlying_buy_exit))\n",
    "entry_date_buy_exit = datetime(int(data_csv.extract_data_row('FIELD','exit_date_buy_yy','VALUE')),\n",
    "                      int(data_csv.extract_data_row('FIELD','exit_date_buy_mm','VALUE')),\n",
    "                      int(data_csv.extract_data_row('FIELD','exit_date_buy_dd','VALUE')),\n",
    "                      int(data_csv.extract_data_row('FIELD','exit_date_buy_HH','VALUE')),\n",
    "                      int(data_csv.extract_data_row('FIELD','exit_date_buy_MM','VALUE')),\n",
    "                      int(data_csv.extract_data_row('FIELD','exit_date_buy_SS','VALUE')))\n",
    "print('entry_date_buy_exit = ' + str(entry_date_buy_exit))\n",
    "trading_day_buy_exit = entry_date_buy_exit.date()\n",
    "print('trading_day_buy_exit = ' + str(trading_day_buy_exit))\n",
    "historical_volatility_buy_exit = float(data_csv.extract_data_row('FIELD',\n",
    "                                                                 'historical_volatility_buy_exit','VALUE').replace(',','.'))\n",
    "print('historical_volatility_buy_exit = ' + str(historical_volatility_buy_exit))"
   ]
  },
  {
   "cell_type": "code",
   "execution_count": null,
   "metadata": {
    "collapsed": false
   },
   "outputs": [],
   "source": [
    "# get data\n",
    "csv = Csv_mngt()\n",
    "csv.set_data(option_path_buy_exit + '\\\\Opciones\\\\' + option_buy_exit + '.txt',';')\n",
    "# clean up of the csv deleting rows with no time entry\n",
    "time_list=csv.extract_data_col('Time')\n",
    "for each in time_list:\n",
    "    try:\n",
    "        time_conversion=datetime.strptime(each, '%H:%M:%S')\n",
    "    except ValueError:\n",
    "        csv.delete_data_row('Time',each)\n",
    "time_list=csv.extract_data_col('Time')\n",
    "bid_str = csv.extract_data_col('Bid Underlier')\n",
    "for i, each in enumerate(bid_str):\n",
    "    try:\n",
    "        bid_str[i]=float(each.replace(',','.'))\n",
    "    except ValueError:\n",
    "        if i:\n",
    "            bid_str[i] = bid_str[i-1]\n",
    "        else:\n",
    "            bid_str[i] = 0\n",
    "    finally:\n",
    "        if bid_str[i] == 0 and i > 0:\n",
    "            bid_str[i] = bid_str[i-1]\n",
    "bid_list = np.asarray(bid_str)\n",
    "ask_str = csv.extract_data_col('Ask Underlier')\n",
    "for i, each in enumerate(ask_str):\n",
    "    try:\n",
    "        ask_str[i]=float(each.replace(',','.'))\n",
    "    except ValueError:\n",
    "        if i:\n",
    "            ask_str[i] = ask_str[i-1]\n",
    "        else:\n",
    "            ask_str[i] = 0\n",
    "    finally:\n",
    "        if ask_str[i] == 0 and i > 0:\n",
    "            ask_str[i] = ask_str[i-1]\n",
    "ask_list = np.asarray(ask_str)\n",
    "target_str = csv.extract_data_col('Target')\n",
    "clean_target_str = []\n",
    "for each in target_str:\n",
    "    try:\n",
    "        clean_target_str.append(float(each.replace(',','.')))\n",
    "    except ValueError:\n",
    "        clean_target_str.append(0)\n",
    "target_list = np.asarray(clean_target_str)\n",
    "time_list = csv.date2num_list(time_list, '%H:%M:%S')-0.25\n",
    "time_list = time_list - int(time_list[0]) + date2num(trading_day_buy)\n",
    "under_price = (bid_list + ask_list) / 2\n",
    "premium_bid_str = csv.extract_data_col('Bid')\n",
    "premium_bid = np.asarray([float(x.replace(',','.')) for x in premium_bid_str])\n",
    "premium_ask_str = csv.extract_data_col('Ask')\n",
    "premium_ask = np.asarray([float(x.replace(',','.')) for x in premium_ask_str])\n",
    "for i,v in enumerate(time_list):\n",
    "    if date2num(entry_date_buy_exit) <= v:\n",
    "        break\n",
    "if not i:\n",
    "    i=1\n",
    "bid_price_buy_exit = premium_bid[i-1]\n",
    "print(bid_price_buy_exit)"
   ]
  },
  {
   "cell_type": "markdown",
   "metadata": {},
   "source": [
    "#### UNDERLYING BUY LEG"
   ]
  },
  {
   "cell_type": "code",
   "execution_count": null,
   "metadata": {
    "collapsed": false
   },
   "outputs": [],
   "source": [
    "graph = PrintPlot(time_list, bid_list)\n",
    "graph.init_plot(trace_type = 'bd-', data_name = 'Bid', x_name = 'time', fig_size = (12, 8), title_plot = ticker, log_y = False)\n",
    "graph.append_trace(ask_list, 'rd-', 'Ask')\n",
    "graph.show()\n",
    "print('entry_date_buy_exit = ' + str(entry_date_buy_exit))"
   ]
  },
  {
   "cell_type": "markdown",
   "metadata": {},
   "source": [
    "#### TRADING BUY LEG"
   ]
  },
  {
   "cell_type": "code",
   "execution_count": null,
   "metadata": {
    "collapsed": false
   },
   "outputs": [],
   "source": [
    "graph_trading_buy = PrintPlot(time_list, premium_bid)\n",
    "graph_trading_buy.init_plot(trace_type = 'bd-', data_name = 'Bid', x_name = 'time', fig_size = (12, 8),\n",
    "                            title_plot = ticker, log_y = False)\n",
    "graph_trading_buy.append_trace(premium_ask, 'rd-', 'Ask')\n",
    "graph_trading_buy.append_trace(target_list, 'kd', 'Target')\n",
    "graph_trading_buy.show()\n",
    "print('entry_date_buy_exit = ' + str(entry_date_buy_exit))\n",
    "print('premium_buy_exit = ' + str(premium_buy_exit))"
   ]
  },
  {
   "cell_type": "markdown",
   "metadata": {},
   "source": [
    "#### IMPLIED VOLATILITY BUY LEG"
   ]
  },
  {
   "cell_type": "code",
   "execution_count": null,
   "metadata": {
    "collapsed": false
   },
   "outputs": [],
   "source": [
    "# buy leg implied volatility\n",
    "graph_IV_buy = PrintTrading()\n",
    "graph_IV_buy.print_IV(option_type, premium_bid, under_price, strike_buy, time_list, expiration, data_name = 'bid',\n",
    "                     trace_type = 'g-')\n",
    "time_leg_IV_out = date2num(entry_date_buy_exit)\n",
    "time_to_exp = date2num(expiration)-date2num(entry_date_buy_exit)\n",
    "buy_leg_IV_out = Calculate().find_IV(option_type, premium_buy_exit, underlying_buy_exit, strike_buy, time_to_exp)\n",
    "xy = (date2num(entry_date_buy_exit), buy_leg_IV_out)\n",
    "xy_text = (date2num(entry_date_buy_exit), buy_leg_IV_out * 0.99)\n",
    "\n",
    "graph_IV_buy.annotate('buy leg out', xy, xy_text)\n",
    "graph_IV_buy.text('X', date2num(entry_date_buy_exit), buy_leg_IV_out)\n",
    "premium_trade = (premium_bid + premium_ask) / 2\n",
    "graph_IV_buy.add_IV(option_type, premium_trade, under_price, strike_buy, time_list, expiration, data_name = 'fair',\n",
    "                     trace_type = 'b--')\n",
    "graph_IV_buy.add_IV(option_type, premium_ask, under_price, strike_buy, time_list, expiration, data_name = 'ask',\n",
    "                     trace_type = 'r-')\n",
    "graph_IV_buy.show()\n",
    "print('entry_date_buy_exit = ' + str(entry_date_buy_exit))"
   ]
  },
  {
   "cell_type": "markdown",
   "metadata": {},
   "source": [
    "#### IMPLIED VOLATILITY CALCULATED BUY LEG"
   ]
  },
  {
   "cell_type": "code",
   "execution_count": null,
   "metadata": {
    "collapsed": false
   },
   "outputs": [],
   "source": [
    "# buy_leg, IV\n",
    "print('IV of buy leg out = ' + str(buy_leg_IV_out) + '    premium buy leg exit = ' + str(premium_buy_exit))\n",
    "print('\\nPremium market buy exit= ' + '{0:.2f}'.format(bid_price_buy_exit))\n",
    "try:\n",
    "    premium_historical_buy_exit = Calculate().value(option_type, underlying_buy_exit, strike_buy, date2num(expiration) - \n",
    "                                           date2num(entry_date_buy_exit), historical_volatility_buy_exit, 0.01, 0)\n",
    "except ZeroDivisionError:\n",
    "    premium_historical_buy_exit = 0\n",
    "print('\\nHistorical volatility buy exit = ' + str(historical_volatility_buy_exit) +\n",
    "      '    premium HV buy exit= ' + '{0:.2f}'.format(premium_historical_buy_exit))"
   ]
  },
  {
   "cell_type": "markdown",
   "metadata": {},
   "source": [
    "#### RESULTS EXIT BUY LEG"
   ]
  },
  {
   "cell_type": "markdown",
   "metadata": {},
   "source": [
    "##### ROBOT TRADING"
   ]
  },
  {
   "cell_type": "code",
   "execution_count": null,
   "metadata": {
    "collapsed": true
   },
   "outputs": [],
   "source": [
    "print('IV of buy leg in = ' + str(buy_leg_IV_in) + '    premium buy leg = ' + str(premium_buy))\n",
    "print('IV of write leg in = ' + str(write_leg_IV_in) + '    premium write leg = ' + str(premium_write))\n",
    "print('IV of buy leg out = ' + str(buy_leg_IV_out) + '    premium buy leg exit = ' + str(premium_buy_exit))\n",
    "premium_robot_entry = (-premium_write) - premium_buy  # my profit at the entry\n",
    "print('\\n premium robot entry = ' + '{0:.2f}'.format(premium_robot_entry))\n",
    "premium_robot_exit = premium_buy_exit # my profit at the exit\n",
    "print('\\n premium robot exit = ' + '{0:.2f}'.format(premium_robot_exit))\n",
    "robot_profit = premium_robot_entry + premium_robot_exit\n",
    "print('\\n robot profit = ' + '{0:.2f}'.format(robot_profit))"
   ]
  },
  {
   "cell_type": "markdown",
   "metadata": {},
   "source": [
    "##### MARKET TRADING"
   ]
  },
  {
   "cell_type": "code",
   "execution_count": null,
   "metadata": {
    "collapsed": true
   },
   "outputs": [],
   "source": [
    "print('Premium market buy = ' + '{0:.2f}'.format(ask_price_buy))\n",
    "print('Premium market write = ' + '{0:.2f}'.format(bid_price_write))\n",
    "print('Premium market buy exit = ' + '{0:.2f}'.format(bid_price_buy_exit))\n",
    "premium_market_entry = bid_price_write - ask_price_buy\n",
    "print('\\n premium market entry = ' + '{0:.2f}'.format(premium_market_entry))\n",
    "premium_market_exit = bid_price_buy_exit\n",
    "print('\\n premium market exit = ' + '{0:.2f}'.format(premium_market_exit))\n",
    "market_profit = premium_market_exit + premium_market_entry\n",
    "print('\\n trading at market prices profit = ' + '{0:.2f}'.format(market_profit))\n",
    "if market_profit < robot_profit:\n",
    "    improvement = abs(robot_profit-market_profit)/abs(market_profit)\n",
    "    print('\\n\\n\\nROBOT HAS GOT BETTER RESULTS THAN MARKET PRICES = ' + '{0:.2%}'.format(improvement))\n",
    "elif market_profit == robot_profit:\n",
    "    print('\\n\\n\\nROBOT HAS NOT IMPROVED MARKET TRADING')\n",
    "else:    \n",
    "    improvement = abs(robot_profit-market_profit)/abs(market_profit)\n",
    "    print('\\n\\n\\nROBOT HAS GOT WORSE RESULTS = ' + '{0:.2%}'.format(improvement))\n",
    "print('\\n   robot profit = ' + '{0:.2f}'.format(robot_profit))\n",
    "print('\\n   trading at market prices profit = ' + '{0:.2f}'.format(market_profit))"
   ]
  },
  {
   "cell_type": "markdown",
   "metadata": {},
   "source": [
    "##### TRADING AT HISTORICAL VOLATILITY"
   ]
  },
  {
   "cell_type": "code",
   "execution_count": null,
   "metadata": {
    "collapsed": true
   },
   "outputs": [],
   "source": [
    "print('Premium historical buy = ' + '{0:.2f}'.format(premium_historical_buy))\n",
    "print('Premium historical write = ' + '{0:.2f}'.format(premium_historical_write))\n",
    "print('Premium historical buy exit = ' + '{0:.2f}'.format(premium_historical_buy_exit))\n",
    "premium_historical_entry = - premium_historical_buy + premium_historical_write # my profit at the entry\n",
    "print('\\n premium historical entry = ' + '{0:.2f}'.format(premium_historical_entry))\n",
    "premium_historical_exit = premium_historical_buy_exit  # my profit at the exit\n",
    "print('\\n premium historical exit = ' + '{0:.2f}'.format(premium_historical_exit))\n",
    "historical_profit = premium_historical_exit + premium_historical_entry\n",
    "print('\\n trading at historical volatility prices profit = ' + '{0:.2f}'.format(historical_profit))\n",
    "if historical_profit < robot_profit:\n",
    "    improvement = abs(robot_profit-historical_profit)/abs(historical_profit)\n",
    "    print('\\n\\n\\nROBOT HAS GOT BETTER RESULTS THAN HISTORICAL VOLATILITY PRICES = ' + '{0:.2%}'.format(improvement))\n",
    "elif historical_profit == robot_profit:\n",
    "    print('\\n\\n\\nROBOT HAS NOT IMPROVED MARKET TRADING RESPECT TO HISTORICAL VOLATILITY PRICES')\n",
    "else:    \n",
    "    improvement = abs(robot_profit-historical_profit)/abs(historical_profit)\n",
    "    print('\\n\\n\\nROBOT HAS GOT WORSE RESULTS THAN HISTORICAL VOLATILITY PRICES = ' + '{0:.2%}'.format(improvement))\n",
    "print('\\n   robot profit = ' + '{0:.2f}'.format(robot_profit))\n",
    "print('\\n   trading at historical volatility prices profit = ' + '{0:.2f}'.format(historical_profit))"
   ]
  },
  {
   "cell_type": "markdown",
   "metadata": {},
   "source": [
    "### WRITE LEG\n",
    "#### EXIT DATA WRITE LEG"
   ]
  },
  {
   "cell_type": "code",
   "execution_count": null,
   "metadata": {
    "collapsed": false
   },
   "outputs": [],
   "source": [
    "option_write_exit = data_csv.extract_data_row('FIELD','option_write_exit','VALUE')\n",
    "print('option_write_exit = ' + option_write_exit)\n",
    "option_path_write_exit = data_csv.extract_data_row('FIELD','option_path_write_exit','VALUE')\n",
    "print('option_path_write_exit = ' + option_path_write_exit)\n",
    "premium_write_exit = float(data_csv.extract_data_row('FIELD','premium_write_exit','VALUE').replace(',','.'))\n",
    "print('premium_write_exit = ' + str(premium_write_exit))\n",
    "try:\n",
    "    underlying_write_exit = float(data_csv.extract_data_row('FIELD','underlying_write_exit','VALUE').replace(',','.'))\n",
    "except ValueError:\n",
    "    underlying_write_exit = 0\n",
    "print('underlying_write_exit = ' + str(underlying_write_exit))\n",
    "entry_date_write_exit = datetime(int(data_csv.extract_data_row('FIELD','exit_date_write_yy','VALUE')),\n",
    "                      int(data_csv.extract_data_row('FIELD','exit_date_write_mm','VALUE')),\n",
    "                      int(data_csv.extract_data_row('FIELD','exit_date_write_dd','VALUE')),\n",
    "                      int(data_csv.extract_data_row('FIELD','exit_date_write_HH','VALUE')),\n",
    "                      int(data_csv.extract_data_row('FIELD','exit_date_write_MM','VALUE')),\n",
    "                      int(data_csv.extract_data_row('FIELD','exit_date_write_SS','VALUE')))\n",
    "print('entry_date_write_exit = ' + str(entry_date_write_exit))\n",
    "trading_day_write_exit = entry_date_write_exit.date()\n",
    "print('trading_day_write_exit = ' + str(trading_day_write_exit))\n",
    "historical_volatility_write_exit = float(data_csv.extract_data_row('FIELD',\n",
    "                                                                 'historical_volatility_write_exit','VALUE').replace(',','.'))\n",
    "print('historical_volatility_write_exit = ' + str(historical_volatility_write_exit))"
   ]
  },
  {
   "cell_type": "code",
   "execution_count": null,
   "metadata": {
    "collapsed": false
   },
   "outputs": [],
   "source": [
    "# get data\n",
    "csv = Csv_mngt()\n",
    "csv.set_data(option_path_write_exit + '\\\\Opciones\\\\' + option_write_exit + '.txt',';')\n",
    "# clean up of the csv deleting rows with no time entry\n",
    "time_list=csv.extract_data_col('Time')\n",
    "for each in time_list:\n",
    "    try:\n",
    "        time_conversion=datetime.strptime(each, '%H:%M:%S')\n",
    "    except ValueError:\n",
    "        csv.delete_data_row('Time',each)\n",
    "time_list=csv.extract_data_col('Time')\n",
    "bid_str = csv.extract_data_col('Bid Underlier')\n",
    "for i, each in enumerate(bid_str):\n",
    "    try:\n",
    "        bid_str[i]=float(each.replace(',','.'))\n",
    "    except ValueError:\n",
    "        if i:\n",
    "            bid_str[i] = bid_str[i-1]\n",
    "        else:\n",
    "            bid_str[i] = 0\n",
    "    finally:\n",
    "        if bid_str[i] == 0 and i > 0:\n",
    "            bid_str[i] = bid_str[i-1]\n",
    "bid_list = np.asarray(bid_str)\n",
    "ask_str = csv.extract_data_col('Ask Underlier')\n",
    "for i, each in enumerate(ask_str):\n",
    "    try:\n",
    "        ask_str[i]=float(each.replace(',','.'))\n",
    "    except ValueError:\n",
    "        if i:\n",
    "            ask_str[i] = ask_str[i-1]\n",
    "        else:\n",
    "            ask_str[i] = 0\n",
    "    finally:\n",
    "        if ask_str[i] == 0 and i > 0:\n",
    "            ask_str[i] = ask_str[i-1]\n",
    "ask_list = np.asarray(ask_str)\n",
    "target_str = csv.extract_data_col('Target')\n",
    "clean_target_str = []\n",
    "for each in target_str:\n",
    "    try:\n",
    "        clean_target_str.append(float(each.replace(',','.')))\n",
    "    except ValueError:\n",
    "        clean_target_str.append(0)\n",
    "target_list = np.asarray(clean_target_str)\n",
    "time_list = csv.date2num_list(time_list, '%H:%M:%S')-0.25\n",
    "time_list = time_list - int(time_list[0]) + date2num(trading_day_buy)\n",
    "under_price = (bid_list + ask_list) / 2\n",
    "premium_bid_str = csv.extract_data_col('Bid')\n",
    "premium_bid = np.asarray([float(x.replace(',','.')) for x in premium_bid_str])\n",
    "premium_ask_str = csv.extract_data_col('Ask')\n",
    "premium_ask = np.asarray([float(x.replace(',','.')) for x in premium_ask_str])\n",
    "for i,v in enumerate(time_list):\n",
    "    if date2num(entry_date_write_exit) <= v:\n",
    "        break\n",
    "if not i:\n",
    "    i=1\n",
    "ask_price_write_exit = premium_ask[i-1]\n",
    "print(ask_price_write_exit)"
   ]
  },
  {
   "cell_type": "markdown",
   "metadata": {},
   "source": [
    "#### UNDERLYING WRITE LEG"
   ]
  },
  {
   "cell_type": "code",
   "execution_count": null,
   "metadata": {
    "collapsed": false
   },
   "outputs": [],
   "source": [
    "\n",
    "graph = PrintPlot(time_list, bid_list)\n",
    "graph.init_plot(trace_type = 'bd-', data_name = 'Bid', x_name = 'time', fig_size = (12, 8), title_plot = ticker, log_y = False)\n",
    "graph.append_trace(ask_list, 'rd-', 'Ask')\n",
    "graph.show()\n",
    "print('entry_date_write_exit = ' + str(entry_date_write_exit))"
   ]
  },
  {
   "cell_type": "markdown",
   "metadata": {},
   "source": [
    "#### TRADING WRITE LEG"
   ]
  },
  {
   "cell_type": "code",
   "execution_count": null,
   "metadata": {
    "collapsed": false
   },
   "outputs": [],
   "source": [
    "graph_trading_write = PrintPlot(time_list, premium_bid)\n",
    "graph_trading_write.init_plot(trace_type = 'bd-', data_name = 'Bid', x_name = 'time', fig_size = (12, 8),\n",
    "                            title_plot = ticker, log_y = False)\n",
    "graph_trading_write.append_trace(premium_ask, 'rd-', 'Ask')\n",
    "graph_trading_write.append_trace(target_list, 'kd', 'Target')\n",
    "graph_trading_write.show()\n",
    "print('entry_date_write_exit = ' + str(entry_date_write_exit))\n",
    "print('premium_write_exit = ' + str(premium_write_exit))"
   ]
  },
  {
   "cell_type": "markdown",
   "metadata": {},
   "source": [
    "#### IMPLIED VOLATILITY WRITE LEG"
   ]
  },
  {
   "cell_type": "code",
   "execution_count": null,
   "metadata": {
    "collapsed": false
   },
   "outputs": [],
   "source": [
    "# write leg implied volatility\n",
    "graph_IV_write = PrintTrading()\n",
    "\n",
    "\n",
    "graph_IV_write.print_IV(option_type, premium_bid, under_price, strike_write, time_list, expiration, data_name = 'bid',\n",
    "                     trace_type = 'g-')\n",
    "\n",
    "time_leg_IV_out = date2num(entry_date_write_exit)\n",
    "time_to_exp = date2num(expiration)-date2num(entry_date_write_exit)\n",
    "write_leg_IV_out = Calculate().find_IV(option_type, premium_write_exit, underlying_write_exit, strike_write, time_to_exp)\n",
    "write_leg_IV_out_bid = Calculate().find_IV(option_type, 0.72, underlying_write_exit, strike_write, time_to_exp)\n",
    "\n",
    "\n",
    "xy = (date2num(entry_date_write_exit), write_leg_IV_out)\n",
    "xy_text = (date2num(entry_date_write_exit), write_leg_IV_out * 0.99)\n",
    "\n",
    "graph_IV_write.annotate('write leg out', xy, xy_text)\n",
    "graph_IV_write.text('X', date2num(entry_date_write_exit), write_leg_IV_out)\n",
    "premium_trade = (premium_bid + premium_ask) / 2\n",
    "graph_IV_write.add_IV(option_type, premium_trade, under_price, strike_write, time_list, expiration, data_name = 'fair',\n",
    "                     trace_type = 'b--')\n",
    "graph_IV_write.add_IV(option_type, premium_ask, under_price, strike_write, time_list, expiration, data_name = 'ask',\n",
    "                     trace_type = 'r-')\n",
    "graph_IV_write.show()\n",
    "print('entry_date_write_exit = ' + str(entry_date_write_exit))"
   ]
  },
  {
   "cell_type": "markdown",
   "metadata": {},
   "source": [
    "#### IMPLIED VOLATILITY CALCULATED WRITE LEG"
   ]
  },
  {
   "cell_type": "code",
   "execution_count": null,
   "metadata": {
    "collapsed": false
   },
   "outputs": [],
   "source": [
    "# Write_leg, IV\n",
    "print('IV of write leg out = ' + str(write_leg_IV_out) + '    premium write leg exit = ' + str(premium_write_exit))\n",
    "print('\\nPremium market write exit= ' + '{0:.2f}'.format(ask_price_write_exit))\n",
    "try:\n",
    "    premium_historical_write_exit = Calculate().value(option_type, underlying_write_exit, strike_write, date2num(expiration) - \n",
    "                                           date2num(entry_date_write_exit), historical_volatility_write_exit, 0.01, 0)\n",
    "except ZeroDivisionError:\n",
    "    premium_historical_write_exit = 0\n",
    "print('\\nHistorical volatility write exit = ' + str(historical_volatility_write_exit) +\n",
    "      '    premium HV write exit= ' + '{0:.2f}'.format(premium_historical_write_exit))"
   ]
  },
  {
   "cell_type": "markdown",
   "metadata": {},
   "source": [
    "## RESULTS\n",
    "#### TRADING WITH ROBOT"
   ]
  },
  {
   "cell_type": "code",
   "execution_count": null,
   "metadata": {
    "collapsed": false
   },
   "outputs": [],
   "source": [
    "print('IV of buy leg in = ' + str(buy_leg_IV_in) + '    premium buy leg = ' + str(premium_buy))\n",
    "print('IV of write leg in = ' + str(write_leg_IV_in) + '    premium write leg = ' + str(premium_write))\n",
    "print('IV of buy leg out = ' + str(buy_leg_IV_out) + '    premium buy leg exit = ' + str(premium_buy_exit))\n",
    "print('IV of write leg in = ' + str(write_leg_IV_out) + '    premium write leg = ' + str(premium_write_exit))\n",
    "premium_robot_entry = (-premium_write) - premium_buy  # my profit at the entry\n",
    "print('\\n premium robot entry = ' + '{0:.2f}'.format(premium_robot_entry))\n",
    "premium_robot_exit = (-premium_write_exit ) + premium_buy_exit # my profit at the exit\n",
    "print('\\n premium robot exit = ' + '{0:.2f}'.format(premium_robot_exit))\n",
    "robot_profit = premium_robot_entry + premium_robot_exit\n",
    "print('\\n robot profit = ' + '{0:.2f}'.format(robot_profit))"
   ]
  },
  {
   "cell_type": "markdown",
   "metadata": {},
   "source": [
    "#### TRADING AT MARKET PRICE"
   ]
  },
  {
   "cell_type": "code",
   "execution_count": null,
   "metadata": {
    "collapsed": false
   },
   "outputs": [],
   "source": [
    "print('Premium market buy = ' + '{0:.2f}'.format(ask_price_buy))\n",
    "print('Premium market write = ' + '{0:.2f}'.format(bid_price_write))\n",
    "print('Premium market buy exit = ' + '{0:.2f}'.format(bid_price_buy_exit))\n",
    "print('Premium market write exit = ' + '{0:.2f}'.format(ask_price_write_exit))\n",
    "premium_market_entry = bid_price_write - ask_price_buy\n",
    "print('\\n premium market entry = ' + '{0:.2f}'.format(premium_market_entry))\n",
    "premium_market_exit = bid_price_buy_exit - ask_price_write_exit\n",
    "print('\\n premium market exit = ' + '{0:.2f}'.format(premium_market_exit))\n",
    "market_profit = premium_market_exit + premium_market_entry\n",
    "print('\\n trading at market prices profit = ' + '{0:.2f}'.format(market_profit))\n",
    "if market_profit < robot_profit:\n",
    "    improvement = abs(robot_profit-market_profit)/abs(market_profit)\n",
    "    print('\\n\\n\\nROBOT HAS GOT BETTER RESULTS THAN MARKET PRICES = ' + '{0:.2%}'.format(improvement))\n",
    "elif market_profit == robot_profit:\n",
    "    print('\\n\\n\\nROBOT HAS NOT IMPROVED MARKET TRADING')\n",
    "else:    \n",
    "    improvement = abs(robot_profit-market_profit)/abs(market_profit)\n",
    "    print('\\n\\n\\nROBOT HAS GOT WORSE RESULTS = ' + '{0:.2%}'.format(improvement))\n",
    "print('\\n   robot profit = ' + '{0:.2f}'.format(robot_profit))\n",
    "print('\\n   trading at market prices profit = ' + '{0:.2f}'.format(market_profit))"
   ]
  },
  {
   "cell_type": "markdown",
   "metadata": {},
   "source": [
    "#### TRADING AT HISTORICAL VOLATILITY"
   ]
  },
  {
   "cell_type": "code",
   "execution_count": null,
   "metadata": {
    "collapsed": false
   },
   "outputs": [],
   "source": [
    "print('Premium historical buy = ' + '{0:.2f}'.format(premium_historical_buy))\n",
    "print('Premium historical write = ' + '{0:.2f}'.format(premium_historical_write))\n",
    "print('Premium historical buy exit = ' + '{0:.2f}'.format(premium_historical_buy_exit))\n",
    "print('Premium historical write exit = ' + '{0:.2f}'.format(premium_historical_write_exit))\n",
    "premium_historical_entry = - premium_historical_buy + premium_historical_write # my profit at the entry\n",
    "print('\\n premium historical entry = ' + '{0:.2f}'.format(premium_historical_entry))\n",
    "premium_historical_exit = premium_historical_buy_exit -premium_historical_write_exit  # my profit at the exit\n",
    "print('\\n premium historical exit = ' + '{0:.2f}'.format(premium_historical_exit))\n",
    "historical_profit = premium_historical_exit + premium_historical_entry\n",
    "print('\\n trading at historical volatility prices profit = ' + '{0:.2f}'.format(historical_profit))\n",
    "if historical_profit < robot_profit:\n",
    "    improvement = abs(robot_profit-historical_profit)/abs(historical_profit)\n",
    "    print('\\n\\n\\nROBOT HAS GOT BETTER RESULTS THAN HISTORICAL VOLATILITY PRICES = ' + '{0:.2%}'.format(improvement))\n",
    "elif historical_profit == robot_profit:\n",
    "    print('\\n\\n\\nROBOT HAS NOT IMPROVED MARKET TRADING RESPECT TO HISTORICAL VOLATILITY PRICES')\n",
    "else:    \n",
    "    improvement = abs(robot_profit-historical_profit)/abs(historical_profit)\n",
    "    print('\\n\\n\\nROBOT HAS GOT WORSE RESULTS THAN HISTORICAL VOLATILITY PRICES = ' + '{0:.2%}'.format(improvement))\n",
    "print('\\n   robot profit = ' + '{0:.2f}'.format(robot_profit))\n",
    "print('\\n   trading at historical volatility prices profit = ' + '{0:.2f}'.format(historical_profit))"
   ]
  }
 ],
 "metadata": {
  "kernelspec": {
   "display_name": "Python 3",
   "language": "python",
   "name": "python3"
  },
  "language_info": {
   "codemirror_mode": {
    "name": "ipython",
    "version": 3
   },
   "file_extension": ".py",
   "mimetype": "text/x-python",
   "name": "python",
   "nbconvert_exporter": "python",
   "pygments_lexer": "ipython3",
   "version": "3.5.1"
  }
 },
 "nbformat": 4,
 "nbformat_minor": 1
}
